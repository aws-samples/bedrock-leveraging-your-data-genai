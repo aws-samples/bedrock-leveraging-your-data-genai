{
 "cells": [
  {
   "cell_type": "markdown",
   "id": "5f1feda1-7c62-4729-8a0f-633077537584",
   "metadata": {},
   "source": [
    "# Document Processing Pipeline"
   ]
  },
  {
   "cell_type": "markdown",
   "id": "fbdc9924-d03f-4612-a5ba-65de8305c1fd",
   "metadata": {},
   "source": [
    "In this notebook, we demonstrate three types of ways to process a given document so that it could be used as repositories for a question and answering chatbot (as shown in 04-rag.ipynb). The Flan T5 LLM and GPT-J embedding model are not required for this section, this notebook just demonstrates an understanding of the document processing pipeline. \n",
    "\n",
    "We use the following document, [Schedule 14A SEC document from Alabama Power Company](https://www.sec.gov/Archives/edgar/data/3153/000000315320000004/apc2020noticeofannualmeeti.htm), to extract useful information and answer questions. Before we can do that, it is vital to process the documents in a meaningful manner. This will help get the appropriate context from these large documents into the LLM so that the LLM can query the data to generate answers. The document is downloaded at `data/14A/0000003153-20-000004.html`\n",
    "\n",
    "The three different ways to process a document include: \n",
    "1. Using a standard HTML Loader from langchain\n",
    "2. Using a custom HTML loader parser\n",
    "3. Using ideal textual paragraphs\n",
    "\n",
    "Run through the sequence of cells to understand the mechanisms behind the steps in each of the approaches of the document processing pipeline. "
   ]
  },
  {
   "cell_type": "markdown",
   "id": "cb9c8ec1-70bd-4e49-88c8-f90a435a80c2",
   "metadata": {},
   "source": [
    "### 1. Set Up Kernel and Required Dependencies\n",
    "\n",
    "First, check that the correct kernel is chosen.\n",
    "\n",
    "<img src=\"img/CheckDataScience30_python3.png\" width=\"300\"/>\n",
    "\n",
    "You can click on that to see and check the details of the image, kernel, and instance type.\n",
    "\n",
    "<img src=\"img/SetupDataScience30_python3.png\" width=\"600\"/>"
   ]
  },
  {
   "cell_type": "markdown",
   "id": "38ca9427-db35-40ed-bba5-ef2dc59807c7",
   "metadata": {},
   "source": [
    "# NOTE:  YOU CANNOT CONTINUE UNTIL THE KERNEL IS STARTED\n",
    "# ### PLEASE WAIT UNTIL THE KERNEL IS STARTED BEFORE CONTINUING!!! ###"
   ]
  },
  {
   "cell_type": "markdown",
   "id": "e9b95632-b110-431b-a7b7-2cf3fc9ba713",
   "metadata": {},
   "source": [
    "# Use `Shift+Enter` to Run Each Cell\n",
    "\n",
    "Use `Shift+Enter` on the cell below to see the output."
   ]
  },
  {
   "cell_type": "markdown",
   "id": "ec789864-541e-4dcf-983e-328aea579c8a",
   "metadata": {},
   "source": [
    "# Click `Kernel` => `Restart Kernel and Run All Cells` to Run All Cells\n",
    "![](img/restart-kernel-and-run-all-cells.png)"
   ]
  },
  {
   "cell_type": "code",
   "execution_count": 2,
   "id": "ca8a6247-9615-4230-afd4-fa95dc972b63",
   "metadata": {
    "tags": []
   },
   "outputs": [
    {
     "name": "stdout",
     "output_type": "stream",
     "text": [
      "Python version is above 3.9.\n"
     ]
    }
   ],
   "source": [
    "import sys\n",
    "\n",
    "# Get the Python version.\n",
    "python_version = sys.version_info\n",
    "\n",
    "# Check if the Python version is above 3.9.\n",
    "if python_version.major < 3 or python_version.minor < 9:\n",
    "  # Raise an error message if the Python version is not above 3.9.\n",
    "  raise Exception(\"Python version must be above 3.9.\")\n",
    "\n",
    "# Print a success message if the Python version is above 3.9.\n",
    "print(\"Python version is above 3.9.\")"
   ]
  },
  {
   "cell_type": "markdown",
   "id": "66217474-e772-41c3-a364-74d66d2e3402",
   "metadata": {},
   "source": [
    "## _==> Please ignore all WARNINGs and ERRORs from the `pip install`'s below. <==_"
   ]
  },
  {
   "cell_type": "code",
   "execution_count": 11,
   "id": "de0404a6",
   "metadata": {
    "tags": []
   },
   "outputs": [
    {
     "name": "stdout",
     "output_type": "stream",
     "text": [
      "Requirement already satisfied: pyyaml==6.0.0 in /opt/conda/lib/python3.10/site-packages/PyYAML-6.0-py3.10-linux-x86_64.egg (from -r ../requirements.txt (line 1)) (6.0)\n",
      "Requirement already satisfied: langchain==0.0.312 in /opt/conda/lib/python3.10/site-packages (from -r ../requirements.txt (line 2)) (0.0.312)\n",
      "Requirement already satisfied: bs4==0.0.2 in /opt/conda/lib/python3.10/site-packages (from -r ../requirements.txt (line 3)) (0.0.2)\n",
      "Requirement already satisfied: lxml==4.9.3 in /opt/conda/lib/python3.10/site-packages (from -r ../requirements.txt (line 4)) (4.9.3)\n",
      "Requirement already satisfied: tqdm==4.64.1 in /opt/conda/lib/python3.10/site-packages (from -r ../requirements.txt (line 5)) (4.64.1)\n",
      "Requirement already satisfied: regex==2022.7.9 in /opt/conda/lib/python3.10/site-packages (from -r ../requirements.txt (line 6)) (2022.7.9)\n",
      "Requirement already satisfied: opensearch-py==2.4.2 in /opt/conda/lib/python3.10/site-packages (from -r ../requirements.txt (line 7)) (2.4.2)\n",
      "Requirement already satisfied: boto3==1.26.73 in /opt/conda/lib/python3.10/site-packages (from -r ../requirements.txt (line 8)) (1.26.73)\n",
      "Requirement already satisfied: pandas==1.5.3 in /opt/conda/lib/python3.10/site-packages (from -r ../requirements.txt (line 9)) (1.5.3)\n",
      "Requirement already satisfied: Pillow==9.4.0 in /opt/conda/lib/python3.10/site-packages (from -r ../requirements.txt (line 10)) (9.4.0)\n",
      "Requirement already satisfied: streamlit==1.20.0 in /opt/conda/lib/python3.10/site-packages (from -r ../requirements.txt (line 11)) (1.20.0)\n",
      "Requirement already satisfied: requests-aws4auth==1.2.3 in /opt/conda/lib/python3.10/site-packages (from -r ../requirements.txt (line 14)) (1.2.3)\n",
      "Requirement already satisfied: SQLAlchemy<3,>=1.4 in /opt/conda/lib/python3.10/site-packages (from langchain==0.0.312->-r ../requirements.txt (line 2)) (1.4.39)\n",
      "Requirement already satisfied: aiohttp<4.0.0,>=3.8.3 in /opt/conda/lib/python3.10/site-packages (from langchain==0.0.312->-r ../requirements.txt (line 2)) (3.9.2)\n",
      "Requirement already satisfied: anyio<4.0 in /opt/conda/lib/python3.10/site-packages (from langchain==0.0.312->-r ../requirements.txt (line 2)) (3.5.0)\n",
      "Requirement already satisfied: async-timeout<5.0.0,>=4.0.0 in /opt/conda/lib/python3.10/site-packages (from langchain==0.0.312->-r ../requirements.txt (line 2)) (4.0.3)\n",
      "Requirement already satisfied: dataclasses-json<0.7,>=0.5.7 in /opt/conda/lib/python3.10/site-packages (from langchain==0.0.312->-r ../requirements.txt (line 2)) (0.6.3)\n",
      "Requirement already satisfied: jsonpatch<2.0,>=1.33 in /opt/conda/lib/python3.10/site-packages (from langchain==0.0.312->-r ../requirements.txt (line 2)) (1.33)\n",
      "Requirement already satisfied: langsmith<0.1.0,>=0.0.43 in /opt/conda/lib/python3.10/site-packages (from langchain==0.0.312->-r ../requirements.txt (line 2)) (0.0.84)\n",
      "Requirement already satisfied: numpy<2,>=1 in /opt/conda/lib/python3.10/site-packages (from langchain==0.0.312->-r ../requirements.txt (line 2)) (1.26.2)\n",
      "Requirement already satisfied: pydantic<3,>=1 in /opt/conda/lib/python3.10/site-packages (from langchain==0.0.312->-r ../requirements.txt (line 2)) (1.10.13)\n",
      "Requirement already satisfied: requests<3,>=2 in /opt/conda/lib/python3.10/site-packages (from langchain==0.0.312->-r ../requirements.txt (line 2)) (2.31.0)\n",
      "Requirement already satisfied: tenacity<9.0.0,>=8.1.0 in /opt/conda/lib/python3.10/site-packages (from langchain==0.0.312->-r ../requirements.txt (line 2)) (8.2.3)\n",
      "Requirement already satisfied: beautifulsoup4 in /opt/conda/lib/python3.10/site-packages (from bs4==0.0.2->-r ../requirements.txt (line 3)) (4.11.1)\n",
      "Requirement already satisfied: urllib3>=1.26.18 in /opt/conda/lib/python3.10/site-packages (from opensearch-py==2.4.2->-r ../requirements.txt (line 7)) (1.26.18)\n",
      "Requirement already satisfied: six in /opt/conda/lib/python3.10/site-packages (from opensearch-py==2.4.2->-r ../requirements.txt (line 7)) (1.16.0)\n",
      "Requirement already satisfied: python-dateutil in /opt/conda/lib/python3.10/site-packages (from opensearch-py==2.4.2->-r ../requirements.txt (line 7)) (2.8.2)\n",
      "Requirement already satisfied: certifi>=2022.12.07 in /opt/conda/lib/python3.10/site-packages (from opensearch-py==2.4.2->-r ../requirements.txt (line 7)) (2023.11.17)\n",
      "Requirement already satisfied: botocore<1.30.0,>=1.29.73 in /opt/conda/lib/python3.10/site-packages (from boto3==1.26.73->-r ../requirements.txt (line 8)) (1.29.165)\n",
      "Requirement already satisfied: jmespath<2.0.0,>=0.7.1 in /opt/conda/lib/python3.10/site-packages (from boto3==1.26.73->-r ../requirements.txt (line 8)) (0.10.0)\n",
      "Requirement already satisfied: s3transfer<0.7.0,>=0.6.0 in /opt/conda/lib/python3.10/site-packages (from boto3==1.26.73->-r ../requirements.txt (line 8)) (0.6.2)\n",
      "Requirement already satisfied: pytz>=2020.1 in /opt/conda/lib/python3.10/site-packages (from pandas==1.5.3->-r ../requirements.txt (line 9)) (2022.1)\n",
      "Requirement already satisfied: altair<5,>=3.2.0 in /opt/conda/lib/python3.10/site-packages (from streamlit==1.20.0->-r ../requirements.txt (line 11)) (4.2.2)\n",
      "Requirement already satisfied: blinker>=1.0.0 in /opt/conda/lib/python3.10/site-packages (from streamlit==1.20.0->-r ../requirements.txt (line 11)) (1.7.0)\n",
      "Requirement already satisfied: cachetools>=4.0 in /opt/conda/lib/python3.10/site-packages (from streamlit==1.20.0->-r ../requirements.txt (line 11)) (5.3.2)\n",
      "Requirement already satisfied: click>=7.0 in /opt/conda/lib/python3.10/site-packages (from streamlit==1.20.0->-r ../requirements.txt (line 11)) (8.1.7)\n",
      "Requirement already satisfied: importlib-metadata>=1.4 in /opt/conda/lib/python3.10/site-packages (from streamlit==1.20.0->-r ../requirements.txt (line 11)) (4.11.3)\n",
      "Requirement already satisfied: packaging>=14.1 in /opt/conda/lib/python3.10/site-packages (from streamlit==1.20.0->-r ../requirements.txt (line 11)) (21.3)\n",
      "Requirement already satisfied: protobuf<4,>=3.12 in /opt/conda/lib/python3.10/site-packages (from streamlit==1.20.0->-r ../requirements.txt (line 11)) (3.20.3)\n",
      "Requirement already satisfied: pyarrow>=4.0 in /opt/conda/lib/python3.10/site-packages (from streamlit==1.20.0->-r ../requirements.txt (line 11)) (14.0.1)\n",
      "Requirement already satisfied: pympler>=0.9 in /opt/conda/lib/python3.10/site-packages (from streamlit==1.20.0->-r ../requirements.txt (line 11)) (1.0.1)\n",
      "Requirement already satisfied: rich>=10.11.0 in /opt/conda/lib/python3.10/site-packages (from streamlit==1.20.0->-r ../requirements.txt (line 11)) (13.7.0)\n",
      "Requirement already satisfied: semver in /opt/conda/lib/python3.10/site-packages (from streamlit==1.20.0->-r ../requirements.txt (line 11)) (3.0.2)\n",
      "Requirement already satisfied: toml in /opt/conda/lib/python3.10/site-packages (from streamlit==1.20.0->-r ../requirements.txt (line 11)) (0.10.2)\n",
      "Requirement already satisfied: typing-extensions>=3.10.0.0 in /opt/conda/lib/python3.10/site-packages (from streamlit==1.20.0->-r ../requirements.txt (line 11)) (4.3.0)\n",
      "Requirement already satisfied: tzlocal>=1.1 in /opt/conda/lib/python3.10/site-packages (from streamlit==1.20.0->-r ../requirements.txt (line 11)) (5.2)\n",
      "Requirement already satisfied: validators>=0.2 in /opt/conda/lib/python3.10/site-packages (from streamlit==1.20.0->-r ../requirements.txt (line 11)) (0.22.0)\n",
      "Requirement already satisfied: gitpython!=3.1.19 in /opt/conda/lib/python3.10/site-packages (from streamlit==1.20.0->-r ../requirements.txt (line 11)) (3.1.41)\n",
      "Requirement already satisfied: pydeck>=0.1.dev5 in /opt/conda/lib/python3.10/site-packages (from streamlit==1.20.0->-r ../requirements.txt (line 11)) (0.8.1b0)\n",
      "Requirement already satisfied: tornado>=6.0.3 in /opt/conda/lib/python3.10/site-packages (from streamlit==1.20.0->-r ../requirements.txt (line 11)) (6.4)\n",
      "Requirement already satisfied: watchdog in /opt/conda/lib/python3.10/site-packages (from streamlit==1.20.0->-r ../requirements.txt (line 11)) (2.1.6)\n",
      "Requirement already satisfied: aiosignal>=1.1.2 in /opt/conda/lib/python3.10/site-packages (from aiohttp<4.0.0,>=3.8.3->langchain==0.0.312->-r ../requirements.txt (line 2)) (1.3.1)\n",
      "Requirement already satisfied: attrs>=17.3.0 in /opt/conda/lib/python3.10/site-packages (from aiohttp<4.0.0,>=3.8.3->langchain==0.0.312->-r ../requirements.txt (line 2)) (23.1.0)\n",
      "Requirement already satisfied: frozenlist>=1.1.1 in /opt/conda/lib/python3.10/site-packages (from aiohttp<4.0.0,>=3.8.3->langchain==0.0.312->-r ../requirements.txt (line 2)) (1.4.1)\n",
      "Requirement already satisfied: multidict<7.0,>=4.5 in /opt/conda/lib/python3.10/site-packages (from aiohttp<4.0.0,>=3.8.3->langchain==0.0.312->-r ../requirements.txt (line 2)) (6.0.4)\n",
      "Requirement already satisfied: yarl<2.0,>=1.0 in /opt/conda/lib/python3.10/site-packages (from aiohttp<4.0.0,>=3.8.3->langchain==0.0.312->-r ../requirements.txt (line 2)) (1.9.4)\n",
      "Requirement already satisfied: entrypoints in /opt/conda/lib/python3.10/site-packages (from altair<5,>=3.2.0->streamlit==1.20.0->-r ../requirements.txt (line 11)) (0.4)\n",
      "Requirement already satisfied: jinja2 in /opt/conda/lib/python3.10/site-packages (from altair<5,>=3.2.0->streamlit==1.20.0->-r ../requirements.txt (line 11)) (3.1.2)\n",
      "Requirement already satisfied: jsonschema>=3.0 in /opt/conda/lib/python3.10/site-packages (from altair<5,>=3.2.0->streamlit==1.20.0->-r ../requirements.txt (line 11)) (4.20.0)\n",
      "Requirement already satisfied: toolz in /opt/conda/lib/python3.10/site-packages (from altair<5,>=3.2.0->streamlit==1.20.0->-r ../requirements.txt (line 11)) (0.11.2)\n",
      "Requirement already satisfied: idna>=2.8 in /opt/conda/lib/python3.10/site-packages (from anyio<4.0->langchain==0.0.312->-r ../requirements.txt (line 2)) (3.3)\n",
      "Requirement already satisfied: sniffio>=1.1 in /opt/conda/lib/python3.10/site-packages (from anyio<4.0->langchain==0.0.312->-r ../requirements.txt (line 2)) (1.2.0)\n",
      "Requirement already satisfied: marshmallow<4.0.0,>=3.18.0 in /opt/conda/lib/python3.10/site-packages (from dataclasses-json<0.7,>=0.5.7->langchain==0.0.312->-r ../requirements.txt (line 2)) (3.20.2)\n",
      "Requirement already satisfied: typing-inspect<1,>=0.4.0 in /opt/conda/lib/python3.10/site-packages (from dataclasses-json<0.7,>=0.5.7->langchain==0.0.312->-r ../requirements.txt (line 2)) (0.9.0)\n",
      "Requirement already satisfied: gitdb<5,>=4.0.1 in /opt/conda/lib/python3.10/site-packages (from gitpython!=3.1.19->streamlit==1.20.0->-r ../requirements.txt (line 11)) (4.0.11)\n",
      "Requirement already satisfied: zipp>=0.5 in /opt/conda/lib/python3.10/site-packages (from importlib-metadata>=1.4->streamlit==1.20.0->-r ../requirements.txt (line 11)) (3.8.0)\n",
      "Requirement already satisfied: jsonpointer>=1.9 in /opt/conda/lib/python3.10/site-packages (from jsonpatch<2.0,>=1.33->langchain==0.0.312->-r ../requirements.txt (line 2)) (2.1)\n",
      "Requirement already satisfied: pyparsing!=3.0.5,>=2.0.2 in /opt/conda/lib/python3.10/site-packages (from packaging>=14.1->streamlit==1.20.0->-r ../requirements.txt (line 11)) (3.0.9)\n",
      "Requirement already satisfied: charset-normalizer<4,>=2 in /opt/conda/lib/python3.10/site-packages (from requests<3,>=2->langchain==0.0.312->-r ../requirements.txt (line 2)) (2.0.4)\n",
      "Requirement already satisfied: markdown-it-py>=2.2.0 in /opt/conda/lib/python3.10/site-packages (from rich>=10.11.0->streamlit==1.20.0->-r ../requirements.txt (line 11)) (3.0.0)\n",
      "Requirement already satisfied: pygments<3.0.0,>=2.13.0 in /opt/conda/lib/python3.10/site-packages (from rich>=10.11.0->streamlit==1.20.0->-r ../requirements.txt (line 11)) (2.17.2)\n",
      "Requirement already satisfied: greenlet!=0.4.17 in /opt/conda/lib/python3.10/site-packages (from SQLAlchemy<3,>=1.4->langchain==0.0.312->-r ../requirements.txt (line 2)) (1.1.1)\n",
      "Requirement already satisfied: soupsieve>1.2 in /opt/conda/lib/python3.10/site-packages (from beautifulsoup4->bs4==0.0.2->-r ../requirements.txt (line 3)) (2.3.1)\n",
      "Requirement already satisfied: smmap<6,>=3.0.1 in /opt/conda/lib/python3.10/site-packages (from gitdb<5,>=4.0.1->gitpython!=3.1.19->streamlit==1.20.0->-r ../requirements.txt (line 11)) (5.0.1)\n",
      "Requirement already satisfied: MarkupSafe>=2.0 in /opt/conda/lib/python3.10/site-packages (from jinja2->altair<5,>=3.2.0->streamlit==1.20.0->-r ../requirements.txt (line 11)) (2.1.3)\n",
      "Requirement already satisfied: jsonschema-specifications>=2023.03.6 in /opt/conda/lib/python3.10/site-packages (from jsonschema>=3.0->altair<5,>=3.2.0->streamlit==1.20.0->-r ../requirements.txt (line 11)) (2023.11.2)\n",
      "Requirement already satisfied: referencing>=0.28.4 in /opt/conda/lib/python3.10/site-packages (from jsonschema>=3.0->altair<5,>=3.2.0->streamlit==1.20.0->-r ../requirements.txt (line 11)) (0.31.1)\n",
      "Requirement already satisfied: rpds-py>=0.7.1 in /opt/conda/lib/python3.10/site-packages (from jsonschema>=3.0->altair<5,>=3.2.0->streamlit==1.20.0->-r ../requirements.txt (line 11)) (0.13.2)\n",
      "Requirement already satisfied: mdurl~=0.1 in /opt/conda/lib/python3.10/site-packages (from markdown-it-py>=2.2.0->rich>=10.11.0->streamlit==1.20.0->-r ../requirements.txt (line 11)) (0.1.2)\n",
      "Requirement already satisfied: mypy-extensions>=0.3.0 in /opt/conda/lib/python3.10/site-packages (from typing-inspect<1,>=0.4.0->dataclasses-json<0.7,>=0.5.7->langchain==0.0.312->-r ../requirements.txt (line 2)) (0.4.3)\n",
      "\u001b[33mWARNING: Running pip as the 'root' user can result in broken permissions and conflicting behaviour with the system package manager. It is recommended to use a virtual environment instead: https://pip.pypa.io/warnings/venv\u001b[0m\u001b[33m\n",
      "\u001b[0m\n",
      "\u001b[1m[\u001b[0m\u001b[34;49mnotice\u001b[0m\u001b[1;39;49m]\u001b[0m\u001b[39;49m A new release of pip is available: \u001b[0m\u001b[31;49m23.3.1\u001b[0m\u001b[39;49m -> \u001b[0m\u001b[32;49m23.3.2\u001b[0m\n",
      "\u001b[1m[\u001b[0m\u001b[34;49mnotice\u001b[0m\u001b[1;39;49m]\u001b[0m\u001b[39;49m To update, run: \u001b[0m\u001b[32;49mpip install --upgrade pip\u001b[0m\n"
     ]
    }
   ],
   "source": [
    "!pip install -r ../requirements.txt"
   ]
  },
  {
   "cell_type": "code",
   "execution_count": 12,
   "id": "39dbfb51-313c-4953-a7d7-5bc9ade002ab",
   "metadata": {
    "tags": []
   },
   "outputs": [],
   "source": [
    "# standard imports\n",
    "import re\n",
    "import glob\n",
    "import logging\n",
    "from typing import Dict, List, Union\n",
    "\n",
    "from langchain.document_loaders import BSHTMLLoader\n",
    "from langchain.text_splitter import RecursiveCharacterTextSplitter\n",
    "from langchain.docstore.document import Document\n",
    "from langchain.document_loaders.base import BaseLoader"
   ]
  },
  {
   "cell_type": "markdown",
   "id": "63d84135-3e7e-4fb9-a91b-277b8b566f7c",
   "metadata": {},
   "source": [
    "The following show the path to the document being processed as well as its name. "
   ]
  },
  {
   "cell_type": "code",
   "execution_count": 13,
   "id": "a273587a-ed58-4cdf-8532-392562a97b9e",
   "metadata": {
    "tags": []
   },
   "outputs": [],
   "source": [
    "doc_path = \"../data/14A/0000003153-20-000004.html\"\n",
    "san = \"0000003153-20-000004\""
   ]
  },
  {
   "cell_type": "code",
   "execution_count": 14,
   "id": "f1bad349-3be7-4371-8785-3b1821a1bf97",
   "metadata": {
    "tags": []
   },
   "outputs": [],
   "source": [
    "# helper functions\n",
    "def clean_text(s):\n",
    "    s = s.replace(u'\\xa0', u' ') # no-break space \n",
    "    s = s.replace('\\n', ' ')\n",
    "    s = re.sub(r'\\s+',' ', s) \n",
    "    return s\n",
    "\n",
    "def clean_html(s):\n",
    "    s = s.replace(u'\\xa0', u' ') # no-break space \n",
    "    return s\n",
    "    \n",
    "def like_page_number(text):\n",
    "    '''Match standalone one or two digit number'''\n",
    "    return re.match(r'^(\\d+){1,2}\\.?$',text)\n",
    "\n",
    "def read_text(path):\n",
    "    with open(path, 'r', encoding='utf-8') as f:\n",
    "        return f.read()"
   ]
  },
  {
   "cell_type": "markdown",
   "id": "4fdf4bbb-48ae-4b00-b0d1-4cb950f43c70",
   "metadata": {
    "tags": []
   },
   "source": [
    "## Approach 1: Using a Standard HTML Loader from Langchain\n",
    "\n",
    "For processing the documents in the standard format, we will use langchain's `BSHTMLLoader`. It uses BeautifulSoup4 to load HTML documents to extract the text from the HTML into `page_content`, and the page title as `title` into `metadata`."
   ]
  },
  {
   "cell_type": "markdown",
   "id": "97986805-5237-415c-9ad6-834e3ee0bac3",
   "metadata": {
    "tags": []
   },
   "source": [
    "Now, we will load the HTML file into a langchain `Document`."
   ]
  },
  {
   "cell_type": "code",
   "execution_count": 15,
   "id": "3a4305fd-87d3-4df0-bac4-4b0c5f5229c9",
   "metadata": {
    "tags": []
   },
   "outputs": [
    {
     "name": "stdout",
     "output_type": "stream",
     "text": [
      "Loading ../data/14A/0000003153-20-000004.html\n"
     ]
    }
   ],
   "source": [
    "print('Loading', doc_path)\n",
    "loader = BSHTMLLoader(doc_path)\n",
    "\n",
    "data = loader.load()"
   ]
  },
  {
   "cell_type": "markdown",
   "id": "011bae2c-4fcc-41f0-a202-72cd3f670a6c",
   "metadata": {},
   "source": [
    "The langchain `Document` class can be formed with any piece of text and optional metadata. The piece of text is what we interact with the language model, while the optional metadata is useful for keeping track of metadata about the document (such as the source). A single 14A document can be long so we will split the document in multiple chunks using [RecursiveCharacterTextSplitter](https://python.langchain.com/docs/modules/data_connection/document_transformers/text_splitters/recursive_text_splitter). Lastly, we edit the metadata of the docs to include further information. "
   ]
  },
  {
   "cell_type": "code",
   "execution_count": 16,
   "id": "44ece645-988d-49e3-b02b-c412b8bb3877",
   "metadata": {
    "tags": []
   },
   "outputs": [],
   "source": [
    "text_splitter = RecursiveCharacterTextSplitter(\n",
    "    chunk_size=1400, chunk_overlap=0)\n",
    "\n",
    "docs_standard = text_splitter.split_documents(data)\n",
    "\n",
    "for i, doc in enumerate(docs_standard):\n",
    "    doc.page_content = clean_text(doc.page_content)  \n",
    "    doc.metadata['passage_id'] = i"
   ]
  },
  {
   "cell_type": "code",
   "execution_count": 17,
   "id": "2f4e0187-7a58-45e0-80b7-f30e14fc6dcb",
   "metadata": {
    "tags": []
   },
   "outputs": [
    {
     "name": "stdout",
     "output_type": "stream",
     "text": [
      "Now you have 111 short passages\n"
     ]
    }
   ],
   "source": [
    "print(f'Now you have {len(docs_standard)} short passages')"
   ]
  },
  {
   "cell_type": "markdown",
   "id": "b2f22b2f-e688-41e9-b5cf-f35c36e0b833",
   "metadata": {
    "tags": []
   },
   "source": [
    "## Approach 2: Using a Custom HTML Parser and Loader\n",
    "\n",
    "Using the langchain HTML loader can help in chunking the page into different parts. However, it still does not chunk in a way that preserves some of the components we have in the html file e.g. preserving the sentence strucutures. Therefore, we will use a custom loader similar to the `BSHTMLLoader` that adds parsing for different html tags. In this example, we show how to add a custom tag to the table to make it easier for our models to learn what is a table and what is a text. "
   ]
  },
  {
   "cell_type": "code",
   "execution_count": 18,
   "id": "25446e13-1a05-4d61-a8be-e0a8bc106c2c",
   "metadata": {
    "tags": []
   },
   "outputs": [],
   "source": [
    "\"\"\"Custom serialization of HTML into text.\"\"\"\n",
    "\n",
    "class BSHTMLLoaderEx(BaseLoader):\n",
    "    \"\"\"Loader that uses beautiful soup to parse HTML files.\"\"\"\n",
    "\n",
    "    block_level_elements = set([\n",
    "        'address','article','aside','blockquote','canvas',\n",
    "        'dd','div','dl','dt','fieldset','figcaption','figure','footer','form',\n",
    "        'h1','h2','h3','h4','h5','h6',\n",
    "        'header','hr','li','main','nav','noscript','ol',\n",
    "        'p','pre','section','table','tfoot','ul','video',\n",
    "        'body',\n",
    "    ])\n",
    "\n",
    "    \n",
    "    def __init__(\n",
    "        self,\n",
    "        file_path: str,\n",
    "        open_encoding: Union[str, None] = None,\n",
    "        bs_kwargs: Union[dict, None] = None,\n",
    "    ) -> None:\n",
    "        \"\"\"Initialise with path, and optionally, file encoding to use, and any kwargs\n",
    "        to pass to the BeautifulSoup object.\"\"\"\n",
    "        try:\n",
    "            import bs4  # noqa:F401\n",
    "        except ImportError:\n",
    "            raise ValueError(\n",
    "                \"bs4 package not found, please install it with \" \"`pip install bs4`\"\n",
    "            )\n",
    "\n",
    "        self.file_path = file_path\n",
    "        self.open_encoding = open_encoding\n",
    "        if bs_kwargs is None:\n",
    "            bs_kwargs = {\"features\": \"lxml\"}\n",
    "        self.bs_kwargs = bs_kwargs\n",
    "\n",
    "    def load(self) -> List[Document]:\n",
    "        from bs4 import BeautifulSoup, Tag, NavigableString, Comment\n",
    "\n",
    "        \"\"\"Load HTML document into document objects.\"\"\"\n",
    "        with open(self.file_path, \"r\", encoding=self.open_encoding) as f:\n",
    "            soup = BeautifulSoup(f, **self.bs_kwargs)\n",
    "\n",
    "        # text = soup.get_text()\n",
    "        text = self._parse(soup)\n",
    "\n",
    "        if soup.title:\n",
    "            title = str(soup.title.string)\n",
    "        else:\n",
    "            title = \"\"\n",
    "\n",
    "        metadata: Dict[str, Union[str, None]] = {\n",
    "            \"source\": self.file_path,\n",
    "            \"title\": title,\n",
    "        }\n",
    "        return [Document(page_content=text, metadata=metadata)]\n",
    "\n",
    "    def _parse(self,soup):\n",
    "        '''Custom parser'''\n",
    "        from bs4 import BeautifulSoup, Tag, NavigableString, Comment\n",
    "        \n",
    "        def __clean(s):\n",
    "            s = s.replace(u'\\xa0', u' ')\n",
    "            return s\n",
    "            \n",
    "        # DFS post-order. \n",
    "        # Adding a different delimeter at the end of each tag\n",
    "        def dfs(tags,texts):\n",
    "            for tag in tags:\n",
    "                if isinstance(tag,Comment):\n",
    "                    pass\n",
    "                elif isinstance(tag,NavigableString):\n",
    "                    texts += tag.string,\n",
    "\n",
    "                else:\n",
    "                    # Starting a new paragraph tag, \n",
    "                    # terminate previous non-paragraph by the period.\n",
    "                    if tag.name in type(self).block_level_elements:\n",
    "                        # if texts:\n",
    "                        #     print(\"'{}'\".format(texts[-1][-10:]))\n",
    "                        #     print(texts[-1][-1].isalnum())\n",
    "                        if texts and texts[-1] and texts[-1][-1].isalnum():\n",
    "                            texts[-1] += '.'\n",
    "                        texts += '\\n',\n",
    "\n",
    "                    # Serialize a table\n",
    "                    if tag.name in ['td'] and tag.text != '':\n",
    "                        texts += ' <Cell> ',\n",
    "                    if tag.name in ['table']:\n",
    "                        texts += ' <Table Start> '\n",
    "\n",
    "                    dfs(tag.children,texts)\n",
    "\n",
    "                    if tag.name in ['table']:\n",
    "                        texts += ' <Table End> '\n",
    "\n",
    "        texts = []   \n",
    "\n",
    "        dfs([soup.find('body')],texts)        \n",
    "\n",
    "        s = ''.join(texts)\n",
    "        s = __clean(s)\n",
    "        s = re.sub(r'[\\.]+','.',s) # multiple dots\n",
    "        \n",
    "        return s"
   ]
  },
  {
   "cell_type": "markdown",
   "id": "95ee411b-da95-4e1c-9127-dca566c2474d",
   "metadata": {},
   "source": [
    "Now in a similar way that the document was loaded through langchain, we call the BSHTMLLoaderEx custom class and split the documents using the RecursiveCharacterTextSplitter. An example of a document is outputted from the below cell. "
   ]
  },
  {
   "cell_type": "code",
   "execution_count": 19,
   "id": "14c57882-ed3f-42b2-a75d-290ecdf23d0f",
   "metadata": {
    "tags": []
   },
   "outputs": [
    {
     "name": "stdout",
     "output_type": "stream",
     "text": [
      "Loading: ../data/14A/0000003153-20-000004.html\n",
      "Now you have 172 short passages\n"
     ]
    },
    {
     "data": {
      "text/plain": [
       "Document(page_content='UNITED STATES. SECURITIES AND EXCHANGE COMMISSION. WASHINGTON, D.C. 20549. SCHEDULE 14A INFORMATION. Proxy Statement Pursuant To Section 14(a) of the Securities Exchange Act of 1934. <Table Start> <Cell> x <Cell> Filed by the Registrant <Cell> o <Cell> Filed by a party other than the Registrant <Table End> Check the appropriate box: <Table Start> <Cell> o <Cell> Preliminary proxy statement <Cell> o <Cell> Confidential, for use of the Commission only (as permitted by Rule 14a-6(e)(2)) <Cell> x <Cell> Definitive proxy statement <Cell> o <Cell> Definitive additional materials <Cell> o <Cell> Soliciting material under Rule 14a-12 <Table End> ALABAMA POWER COMPANY. (Name of Registrant as Specified in Its Charter) (Name of Person(s) Filing Proxy Statement, if Other Than the Registrant) Payment of Filing Fee (Check the appropriate box):', metadata={'source': '../data/14A/0000003153-20-000004.html', 'title': 'None', 'passage_id': 0})"
      ]
     },
     "execution_count": 19,
     "metadata": {},
     "output_type": "execute_result"
    }
   ],
   "source": [
    "print('Loading:', doc_path)\n",
    "\n",
    "# \n",
    "loader = BSHTMLLoaderEx(doc_path, bs_kwargs={'features':'html.parser'})\n",
    "\n",
    "data = loader.load()\n",
    "\n",
    "# Clean entire HTML\n",
    "data[0].page_content = clean_html(data[0].page_content)\n",
    "\n",
    "text_splitter = RecursiveCharacterTextSplitter(\n",
    "    chunk_size=1400, chunk_overlap=0)\n",
    "\n",
    "docs = text_splitter.split_documents(data)\n",
    "\n",
    "for i,doc in enumerate(docs):\n",
    "    doc.page_content = clean_text(doc.page_content)\n",
    "    doc.metadata['passage_id'] = i\n",
    "\n",
    "# Filter page numbers\n",
    "docs = [doc for doc in docs if not like_page_number(doc.page_content)]\n",
    "\n",
    "print(f'Now you have {len(docs)} short passages')\n",
    "docs[0]"
   ]
  },
  {
   "cell_type": "markdown",
   "id": "1cd54063-e1c5-48f0-9921-ef66d34e5056",
   "metadata": {},
   "source": [
    "## Approach 3: Using Ideal Textual 14A paragraphs\n",
    "This section demonstrates how to load the fragments of texts as shown as a document. Each of the files are of .txt format and include all important paragraphs. "
   ]
  },
  {
   "cell_type": "code",
   "execution_count": 20,
   "id": "537b4d73-2aa3-4a82-b454-8e335af1e9e8",
   "metadata": {
    "tags": []
   },
   "outputs": [
    {
     "name": "stdout",
     "output_type": "stream",
     "text": [
      "Loading: ../data/14A_frags/0000003153-20-000004.*.txt\n",
      "Now you have 172 short textual passages\n",
      "page_content=\"Phillip M. Webb - Director since 2018. Mr. Webb, 62, is President of Webb Concrete and Building Materials, a position he has held since 1982. Mr. Webb serves on the Board of Directors of NobleBank & Trust, as well as numerous philanthropic and non-profit boards, such as the Business Council of Alabama, Calhoun County Home Builders Association, the Jacksonville State University Foundation, the Calhoun. 3. County Chamber of Commerce, and the Greater Alabama Council of the Boy Scouts of America. He is also the Chairman of the Knox Concert Series. Mr. Webb's business experience and investment in his local community make him a well-qualified member of the Company's Board. Each nominee has served in his or her present position for at least the past five years, unless otherwise noted. Vote Required.\" metadata={'source': '../data/14A_frags/0000003153-20-000004.webb.txt', 'title': None, 'passage_id': 1}\n"
     ]
    }
   ],
   "source": [
    "folder = \"../data/14A_frags/\"\n",
    "print(f'Loading: {folder}{san}.*.txt')\n",
    "\n",
    "docs_ideal = []\n",
    "for i,fname in enumerate(glob.iglob(folder + san + '*.txt')):\n",
    "    docs_ideal += Document(\n",
    "                page_content=read_text(fname),\n",
    "                metadata ={'source': fname, 'title': None, 'passage_id': i}\n",
    "    ),\n",
    "\n",
    "print(f'Now you have {len(docs)} short textual passages')\n",
    "print(docs_ideal[1])"
   ]
  },
  {
   "cell_type": "code",
   "execution_count": null,
   "id": "d768fa66-9a6f-4636-9caa-6e598322402f",
   "metadata": {},
   "outputs": [],
   "source": []
  }
 ],
 "metadata": {
  "availableInstances": [
   {
    "_defaultOrder": 0,
    "_isFastLaunch": true,
    "category": "General purpose",
    "gpuNum": 0,
    "hideHardwareSpecs": false,
    "memoryGiB": 4,
    "name": "ml.t3.medium",
    "vcpuNum": 2
   },
   {
    "_defaultOrder": 1,
    "_isFastLaunch": false,
    "category": "General purpose",
    "gpuNum": 0,
    "hideHardwareSpecs": false,
    "memoryGiB": 8,
    "name": "ml.t3.large",
    "vcpuNum": 2
   },
   {
    "_defaultOrder": 2,
    "_isFastLaunch": false,
    "category": "General purpose",
    "gpuNum": 0,
    "hideHardwareSpecs": false,
    "memoryGiB": 16,
    "name": "ml.t3.xlarge",
    "vcpuNum": 4
   },
   {
    "_defaultOrder": 3,
    "_isFastLaunch": false,
    "category": "General purpose",
    "gpuNum": 0,
    "hideHardwareSpecs": false,
    "memoryGiB": 32,
    "name": "ml.t3.2xlarge",
    "vcpuNum": 8
   },
   {
    "_defaultOrder": 4,
    "_isFastLaunch": true,
    "category": "General purpose",
    "gpuNum": 0,
    "hideHardwareSpecs": false,
    "memoryGiB": 8,
    "name": "ml.m5.large",
    "vcpuNum": 2
   },
   {
    "_defaultOrder": 5,
    "_isFastLaunch": false,
    "category": "General purpose",
    "gpuNum": 0,
    "hideHardwareSpecs": false,
    "memoryGiB": 16,
    "name": "ml.m5.xlarge",
    "vcpuNum": 4
   },
   {
    "_defaultOrder": 6,
    "_isFastLaunch": false,
    "category": "General purpose",
    "gpuNum": 0,
    "hideHardwareSpecs": false,
    "memoryGiB": 32,
    "name": "ml.m5.2xlarge",
    "vcpuNum": 8
   },
   {
    "_defaultOrder": 7,
    "_isFastLaunch": false,
    "category": "General purpose",
    "gpuNum": 0,
    "hideHardwareSpecs": false,
    "memoryGiB": 64,
    "name": "ml.m5.4xlarge",
    "vcpuNum": 16
   },
   {
    "_defaultOrder": 8,
    "_isFastLaunch": false,
    "category": "General purpose",
    "gpuNum": 0,
    "hideHardwareSpecs": false,
    "memoryGiB": 128,
    "name": "ml.m5.8xlarge",
    "vcpuNum": 32
   },
   {
    "_defaultOrder": 9,
    "_isFastLaunch": false,
    "category": "General purpose",
    "gpuNum": 0,
    "hideHardwareSpecs": false,
    "memoryGiB": 192,
    "name": "ml.m5.12xlarge",
    "vcpuNum": 48
   },
   {
    "_defaultOrder": 10,
    "_isFastLaunch": false,
    "category": "General purpose",
    "gpuNum": 0,
    "hideHardwareSpecs": false,
    "memoryGiB": 256,
    "name": "ml.m5.16xlarge",
    "vcpuNum": 64
   },
   {
    "_defaultOrder": 11,
    "_isFastLaunch": false,
    "category": "General purpose",
    "gpuNum": 0,
    "hideHardwareSpecs": false,
    "memoryGiB": 384,
    "name": "ml.m5.24xlarge",
    "vcpuNum": 96
   },
   {
    "_defaultOrder": 12,
    "_isFastLaunch": false,
    "category": "General purpose",
    "gpuNum": 0,
    "hideHardwareSpecs": false,
    "memoryGiB": 8,
    "name": "ml.m5d.large",
    "vcpuNum": 2
   },
   {
    "_defaultOrder": 13,
    "_isFastLaunch": false,
    "category": "General purpose",
    "gpuNum": 0,
    "hideHardwareSpecs": false,
    "memoryGiB": 16,
    "name": "ml.m5d.xlarge",
    "vcpuNum": 4
   },
   {
    "_defaultOrder": 14,
    "_isFastLaunch": false,
    "category": "General purpose",
    "gpuNum": 0,
    "hideHardwareSpecs": false,
    "memoryGiB": 32,
    "name": "ml.m5d.2xlarge",
    "vcpuNum": 8
   },
   {
    "_defaultOrder": 15,
    "_isFastLaunch": false,
    "category": "General purpose",
    "gpuNum": 0,
    "hideHardwareSpecs": false,
    "memoryGiB": 64,
    "name": "ml.m5d.4xlarge",
    "vcpuNum": 16
   },
   {
    "_defaultOrder": 16,
    "_isFastLaunch": false,
    "category": "General purpose",
    "gpuNum": 0,
    "hideHardwareSpecs": false,
    "memoryGiB": 128,
    "name": "ml.m5d.8xlarge",
    "vcpuNum": 32
   },
   {
    "_defaultOrder": 17,
    "_isFastLaunch": false,
    "category": "General purpose",
    "gpuNum": 0,
    "hideHardwareSpecs": false,
    "memoryGiB": 192,
    "name": "ml.m5d.12xlarge",
    "vcpuNum": 48
   },
   {
    "_defaultOrder": 18,
    "_isFastLaunch": false,
    "category": "General purpose",
    "gpuNum": 0,
    "hideHardwareSpecs": false,
    "memoryGiB": 256,
    "name": "ml.m5d.16xlarge",
    "vcpuNum": 64
   },
   {
    "_defaultOrder": 19,
    "_isFastLaunch": false,
    "category": "General purpose",
    "gpuNum": 0,
    "hideHardwareSpecs": false,
    "memoryGiB": 384,
    "name": "ml.m5d.24xlarge",
    "vcpuNum": 96
   },
   {
    "_defaultOrder": 20,
    "_isFastLaunch": false,
    "category": "General purpose",
    "gpuNum": 0,
    "hideHardwareSpecs": true,
    "memoryGiB": 0,
    "name": "ml.geospatial.interactive",
    "supportedImageNames": [
     "sagemaker-geospatial-v1-0"
    ],
    "vcpuNum": 0
   },
   {
    "_defaultOrder": 21,
    "_isFastLaunch": true,
    "category": "Compute optimized",
    "gpuNum": 0,
    "hideHardwareSpecs": false,
    "memoryGiB": 4,
    "name": "ml.c5.large",
    "vcpuNum": 2
   },
   {
    "_defaultOrder": 22,
    "_isFastLaunch": false,
    "category": "Compute optimized",
    "gpuNum": 0,
    "hideHardwareSpecs": false,
    "memoryGiB": 8,
    "name": "ml.c5.xlarge",
    "vcpuNum": 4
   },
   {
    "_defaultOrder": 23,
    "_isFastLaunch": false,
    "category": "Compute optimized",
    "gpuNum": 0,
    "hideHardwareSpecs": false,
    "memoryGiB": 16,
    "name": "ml.c5.2xlarge",
    "vcpuNum": 8
   },
   {
    "_defaultOrder": 24,
    "_isFastLaunch": false,
    "category": "Compute optimized",
    "gpuNum": 0,
    "hideHardwareSpecs": false,
    "memoryGiB": 32,
    "name": "ml.c5.4xlarge",
    "vcpuNum": 16
   },
   {
    "_defaultOrder": 25,
    "_isFastLaunch": false,
    "category": "Compute optimized",
    "gpuNum": 0,
    "hideHardwareSpecs": false,
    "memoryGiB": 72,
    "name": "ml.c5.9xlarge",
    "vcpuNum": 36
   },
   {
    "_defaultOrder": 26,
    "_isFastLaunch": false,
    "category": "Compute optimized",
    "gpuNum": 0,
    "hideHardwareSpecs": false,
    "memoryGiB": 96,
    "name": "ml.c5.12xlarge",
    "vcpuNum": 48
   },
   {
    "_defaultOrder": 27,
    "_isFastLaunch": false,
    "category": "Compute optimized",
    "gpuNum": 0,
    "hideHardwareSpecs": false,
    "memoryGiB": 144,
    "name": "ml.c5.18xlarge",
    "vcpuNum": 72
   },
   {
    "_defaultOrder": 28,
    "_isFastLaunch": false,
    "category": "Compute optimized",
    "gpuNum": 0,
    "hideHardwareSpecs": false,
    "memoryGiB": 192,
    "name": "ml.c5.24xlarge",
    "vcpuNum": 96
   },
   {
    "_defaultOrder": 29,
    "_isFastLaunch": true,
    "category": "Accelerated computing",
    "gpuNum": 1,
    "hideHardwareSpecs": false,
    "memoryGiB": 16,
    "name": "ml.g4dn.xlarge",
    "vcpuNum": 4
   },
   {
    "_defaultOrder": 30,
    "_isFastLaunch": false,
    "category": "Accelerated computing",
    "gpuNum": 1,
    "hideHardwareSpecs": false,
    "memoryGiB": 32,
    "name": "ml.g4dn.2xlarge",
    "vcpuNum": 8
   },
   {
    "_defaultOrder": 31,
    "_isFastLaunch": false,
    "category": "Accelerated computing",
    "gpuNum": 1,
    "hideHardwareSpecs": false,
    "memoryGiB": 64,
    "name": "ml.g4dn.4xlarge",
    "vcpuNum": 16
   },
   {
    "_defaultOrder": 32,
    "_isFastLaunch": false,
    "category": "Accelerated computing",
    "gpuNum": 1,
    "hideHardwareSpecs": false,
    "memoryGiB": 128,
    "name": "ml.g4dn.8xlarge",
    "vcpuNum": 32
   },
   {
    "_defaultOrder": 33,
    "_isFastLaunch": false,
    "category": "Accelerated computing",
    "gpuNum": 4,
    "hideHardwareSpecs": false,
    "memoryGiB": 192,
    "name": "ml.g4dn.12xlarge",
    "vcpuNum": 48
   },
   {
    "_defaultOrder": 34,
    "_isFastLaunch": false,
    "category": "Accelerated computing",
    "gpuNum": 1,
    "hideHardwareSpecs": false,
    "memoryGiB": 256,
    "name": "ml.g4dn.16xlarge",
    "vcpuNum": 64
   },
   {
    "_defaultOrder": 35,
    "_isFastLaunch": false,
    "category": "Accelerated computing",
    "gpuNum": 1,
    "hideHardwareSpecs": false,
    "memoryGiB": 61,
    "name": "ml.p3.2xlarge",
    "vcpuNum": 8
   },
   {
    "_defaultOrder": 36,
    "_isFastLaunch": false,
    "category": "Accelerated computing",
    "gpuNum": 4,
    "hideHardwareSpecs": false,
    "memoryGiB": 244,
    "name": "ml.p3.8xlarge",
    "vcpuNum": 32
   },
   {
    "_defaultOrder": 37,
    "_isFastLaunch": false,
    "category": "Accelerated computing",
    "gpuNum": 8,
    "hideHardwareSpecs": false,
    "memoryGiB": 488,
    "name": "ml.p3.16xlarge",
    "vcpuNum": 64
   },
   {
    "_defaultOrder": 38,
    "_isFastLaunch": false,
    "category": "Accelerated computing",
    "gpuNum": 8,
    "hideHardwareSpecs": false,
    "memoryGiB": 768,
    "name": "ml.p3dn.24xlarge",
    "vcpuNum": 96
   },
   {
    "_defaultOrder": 39,
    "_isFastLaunch": false,
    "category": "Memory Optimized",
    "gpuNum": 0,
    "hideHardwareSpecs": false,
    "memoryGiB": 16,
    "name": "ml.r5.large",
    "vcpuNum": 2
   },
   {
    "_defaultOrder": 40,
    "_isFastLaunch": false,
    "category": "Memory Optimized",
    "gpuNum": 0,
    "hideHardwareSpecs": false,
    "memoryGiB": 32,
    "name": "ml.r5.xlarge",
    "vcpuNum": 4
   },
   {
    "_defaultOrder": 41,
    "_isFastLaunch": false,
    "category": "Memory Optimized",
    "gpuNum": 0,
    "hideHardwareSpecs": false,
    "memoryGiB": 64,
    "name": "ml.r5.2xlarge",
    "vcpuNum": 8
   },
   {
    "_defaultOrder": 42,
    "_isFastLaunch": false,
    "category": "Memory Optimized",
    "gpuNum": 0,
    "hideHardwareSpecs": false,
    "memoryGiB": 128,
    "name": "ml.r5.4xlarge",
    "vcpuNum": 16
   },
   {
    "_defaultOrder": 43,
    "_isFastLaunch": false,
    "category": "Memory Optimized",
    "gpuNum": 0,
    "hideHardwareSpecs": false,
    "memoryGiB": 256,
    "name": "ml.r5.8xlarge",
    "vcpuNum": 32
   },
   {
    "_defaultOrder": 44,
    "_isFastLaunch": false,
    "category": "Memory Optimized",
    "gpuNum": 0,
    "hideHardwareSpecs": false,
    "memoryGiB": 384,
    "name": "ml.r5.12xlarge",
    "vcpuNum": 48
   },
   {
    "_defaultOrder": 45,
    "_isFastLaunch": false,
    "category": "Memory Optimized",
    "gpuNum": 0,
    "hideHardwareSpecs": false,
    "memoryGiB": 512,
    "name": "ml.r5.16xlarge",
    "vcpuNum": 64
   },
   {
    "_defaultOrder": 46,
    "_isFastLaunch": false,
    "category": "Memory Optimized",
    "gpuNum": 0,
    "hideHardwareSpecs": false,
    "memoryGiB": 768,
    "name": "ml.r5.24xlarge",
    "vcpuNum": 96
   },
   {
    "_defaultOrder": 47,
    "_isFastLaunch": false,
    "category": "Accelerated computing",
    "gpuNum": 1,
    "hideHardwareSpecs": false,
    "memoryGiB": 16,
    "name": "ml.g5.xlarge",
    "vcpuNum": 4
   },
   {
    "_defaultOrder": 48,
    "_isFastLaunch": false,
    "category": "Accelerated computing",
    "gpuNum": 1,
    "hideHardwareSpecs": false,
    "memoryGiB": 32,
    "name": "ml.g5.2xlarge",
    "vcpuNum": 8
   },
   {
    "_defaultOrder": 49,
    "_isFastLaunch": false,
    "category": "Accelerated computing",
    "gpuNum": 1,
    "hideHardwareSpecs": false,
    "memoryGiB": 64,
    "name": "ml.g5.4xlarge",
    "vcpuNum": 16
   },
   {
    "_defaultOrder": 50,
    "_isFastLaunch": false,
    "category": "Accelerated computing",
    "gpuNum": 1,
    "hideHardwareSpecs": false,
    "memoryGiB": 128,
    "name": "ml.g5.8xlarge",
    "vcpuNum": 32
   },
   {
    "_defaultOrder": 51,
    "_isFastLaunch": false,
    "category": "Accelerated computing",
    "gpuNum": 1,
    "hideHardwareSpecs": false,
    "memoryGiB": 256,
    "name": "ml.g5.16xlarge",
    "vcpuNum": 64
   },
   {
    "_defaultOrder": 52,
    "_isFastLaunch": false,
    "category": "Accelerated computing",
    "gpuNum": 4,
    "hideHardwareSpecs": false,
    "memoryGiB": 192,
    "name": "ml.g5.12xlarge",
    "vcpuNum": 48
   },
   {
    "_defaultOrder": 53,
    "_isFastLaunch": false,
    "category": "Accelerated computing",
    "gpuNum": 4,
    "hideHardwareSpecs": false,
    "memoryGiB": 384,
    "name": "ml.g5.24xlarge",
    "vcpuNum": 96
   },
   {
    "_defaultOrder": 54,
    "_isFastLaunch": false,
    "category": "Accelerated computing",
    "gpuNum": 8,
    "hideHardwareSpecs": false,
    "memoryGiB": 768,
    "name": "ml.g5.48xlarge",
    "vcpuNum": 192
   },
   {
    "_defaultOrder": 55,
    "_isFastLaunch": false,
    "category": "Accelerated computing",
    "gpuNum": 8,
    "hideHardwareSpecs": false,
    "memoryGiB": 1152,
    "name": "ml.p4d.24xlarge",
    "vcpuNum": 96
   },
   {
    "_defaultOrder": 56,
    "_isFastLaunch": false,
    "category": "Accelerated computing",
    "gpuNum": 8,
    "hideHardwareSpecs": false,
    "memoryGiB": 1152,
    "name": "ml.p4de.24xlarge",
    "vcpuNum": 96
   },
   {
    "_defaultOrder": 57,
    "_isFastLaunch": false,
    "category": "Accelerated computing",
    "gpuNum": 0,
    "hideHardwareSpecs": false,
    "memoryGiB": 32,
    "name": "ml.trn1.2xlarge",
    "vcpuNum": 8
   },
   {
    "_defaultOrder": 58,
    "_isFastLaunch": false,
    "category": "Accelerated computing",
    "gpuNum": 0,
    "hideHardwareSpecs": false,
    "memoryGiB": 512,
    "name": "ml.trn1.32xlarge",
    "vcpuNum": 128
   },
   {
    "_defaultOrder": 59,
    "_isFastLaunch": false,
    "category": "Accelerated computing",
    "gpuNum": 0,
    "hideHardwareSpecs": false,
    "memoryGiB": 512,
    "name": "ml.trn1n.32xlarge",
    "vcpuNum": 128
   }
  ],
  "instance_type": "ml.t3.medium",
  "kernelspec": {
   "display_name": "Python 3 (Data Science 3.0)",
   "language": "python",
   "name": "python3__SAGEMAKER_INTERNAL__arn:aws:sagemaker:us-east-1:081325390199:image/sagemaker-data-science-310-v1"
  },
  "language_info": {
   "codemirror_mode": {
    "name": "ipython",
    "version": 3
   },
   "file_extension": ".py",
   "mimetype": "text/x-python",
   "name": "python",
   "nbconvert_exporter": "python",
   "pygments_lexer": "ipython3",
   "version": "3.10.6"
  }
 },
 "nbformat": 4,
 "nbformat_minor": 5
}
